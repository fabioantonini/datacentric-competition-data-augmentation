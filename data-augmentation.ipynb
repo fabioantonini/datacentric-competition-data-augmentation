{
 "cells": [
  {
   "cell_type": "markdown",
   "id": "9c705f8f",
   "metadata": {},
   "source": [
    "# Data augmentation on the mnist roman dataset for Data-Centric competition"
   ]
  },
  {
   "cell_type": "markdown",
   "id": "679aa32e",
   "metadata": {},
   "source": [
    "## Refer to https://worksheets.codalab.org/worksheets/0x7a8721f11e61436e93ac8f76da83f0e6"
   ]
  },
  {
   "cell_type": "code",
   "execution_count": 6,
   "id": "24247743",
   "metadata": {},
   "outputs": [],
   "source": [
    "import tensorflow as tf\n",
    "from tensorflow import keras\n",
    "import numpy as np\n",
    "import json\n",
    "import sys\n",
    "\n",
    "import PIL\n",
    "import PIL.Image\n",
    "import pathlib\n",
    "import matplotlib.pyplot as plt"
   ]
  },
  {
   "cell_type": "code",
   "execution_count": 2,
   "id": "a1276f4d",
   "metadata": {},
   "outputs": [
    {
     "name": "stdout",
     "output_type": "stream",
     "text": [
      "2.5.0\n"
     ]
    }
   ],
   "source": [
    "print(tf.__version__)"
   ]
  },
  {
   "cell_type": "code",
   "execution_count": 7,
   "id": "0ad5d492",
   "metadata": {},
   "outputs": [],
   "source": [
    "data_dir = 'label_book'"
   ]
  },
  {
   "cell_type": "code",
   "execution_count": 10,
   "id": "bbd21da8",
   "metadata": {},
   "outputs": [
    {
     "name": "stdout",
     "output_type": "stream",
     "text": [
      "The foleder label_book contains 52 pictures of roman numbers\n"
     ]
    }
   ],
   "source": [
    "data_dir = pathlib.Path(data_dir)\n",
    "image_count = len(list(data_dir.glob('*/*.png')))\n",
    "print(f'The foleder {data_dir} contains {image_count} pictures of roman numbers')"
   ]
  },
  {
   "cell_type": "markdown",
   "id": "b57e2285",
   "metadata": {},
   "source": [
    "Let's visualize one roman number as example."
   ]
  },
  {
   "cell_type": "code",
   "execution_count": 12,
   "id": "8e538f8d",
   "metadata": {},
   "outputs": [
    {
     "data": {
      "image/png": "[encoded data removed]",
      "text/plain": [
       "<PIL.PngImagePlugin.PngImageFile image mode=L size=247x313 at 0x1E1781291F0>"
      ]
     },
     "execution_count": 12,
     "metadata": {},
     "output_type": "execute_result"
    }
   ],
   "source": [
    "roman_i = list(data_dir.glob('i/*'))\n",
    "PIL.Image.open(str(roman_i[0]))"
   ]
  },
  {
   "cell_type": "markdown",
   "id": "b67de798",
   "metadata": {},
   "source": [
    "Let's ingest the roman numbers by image_dataset_from_directory. The labels will be inferred by the 'class_names' parameter."
   ]
  },
  {
   "cell_type": "code",
   "execution_count": 17,
   "id": "a9e41e0e",
   "metadata": {},
   "outputs": [],
   "source": [
    "roman_numbers = \"label_book\"\n",
    "\n",
    "batch_size = 8\n",
    "tf.random.set_seed(123)"
   ]
  },
  {
   "cell_type": "code",
   "execution_count": 20,
   "id": "dff67f34",
   "metadata": {},
   "outputs": [
    {
     "name": "stdout",
     "output_type": "stream",
     "text": [
      "Found 52 files belonging to 10 classes.\n"
     ]
    }
   ],
   "source": [
    "numbers_ds = tf.keras.preprocessing.image_dataset_from_directory(\n",
    "    roman_numbers,\n",
    "    labels=\"inferred\",\n",
    "    label_mode=\"categorical\",\n",
    "    class_names=[\"i\", \"ii\", \"iii\", \"iv\", \"v\", \"vi\", \"vii\", \"viii\", \"ix\", \"x\"],\n",
    "    shuffle=True,\n",
    "    seed=123,\n",
    "    batch_size=batch_size,\n",
    "    image_size=(32, 32),\n",
    ")"
   ]
  },
  {
   "cell_type": "code",
   "execution_count": 22,
   "id": "e891b278",
   "metadata": {},
   "outputs": [
    {
     "name": "stdout",
     "output_type": "stream",
     "text": [
      "The class names are ['i', 'ii', 'iii', 'iv', 'v', 'vi', 'vii', 'viii', 'ix', 'x']\n"
     ]
    }
   ],
   "source": [
    "class_names = numbers_ds.class_names\n",
    "print(f\"The class names are {class_names}\")"
   ]
  },
  {
   "cell_type": "code",
   "execution_count": 25,
   "id": "2b784d22",
   "metadata": {},
   "outputs": [
    {
     "name": "stdout",
     "output_type": "stream",
     "text": [
      "(8, 32, 32, 3)\n",
      "(8, 10)\n"
     ]
    }
   ],
   "source": [
    "for image_batch, labels_batch in numbers_ds:\n",
    "    print(image_batch.shape)\n",
    "    print(labels_batch.shape)\n",
    "    break"
   ]
  },
  {
   "cell_type": "markdown",
   "id": "b7fec8a6",
   "metadata": {},
   "source": [
    "## Visualize the data"
   ]
  },
  {
   "cell_type": "markdown",
   "id": "50972ea5",
   "metadata": {},
   "source": [
    "Here are the first 9 images from the training dataset."
   ]
  },
  {
   "cell_type": "code",
   "execution_count": 54,
   "id": "7905bda6",
   "metadata": {},
   "outputs": [
    {
     "data": {
      "image/png": "[encoded data removed]",
      "text/plain": [
       "<Figure size 720x720 with 8 Axes>"
      ]
     },
     "metadata": {
      "needs_background": "light"
     },
     "output_type": "display_data"
    }
   ],
   "source": [
    "plt.figure(figsize=(10, 10))\n",
    "for images, labels in numbers_ds.take(1):\n",
    "    #print(images.shape)\n",
    "    for i in range(images.shape[0]):\n",
    "        ax = plt.subplot(2, 4, i + 1)\n",
    "        plt.imshow(images[i].numpy().astype(\"uint8\"))\n",
    "        plt.title(class_names[i])\n",
    "        plt.axis(\"off\")"
   ]
  },
  {
   "cell_type": "markdown",
   "id": "551e412a",
   "metadata": {},
   "source": [
    "## Standardize the data"
   ]
  },
  {
   "cell_type": "markdown",
   "id": "5d3c9825",
   "metadata": {},
   "source": [
    "The RGB channel values are in the [0, 255] range. This is not ideal for a neural network; in general you should seek to make your input values small. Here, you will standardize values to be in the [0, 1] range by using the tf.keras.layers.experimental.preprocessing.Rescaling layer."
   ]
  },
  {
   "cell_type": "code",
   "execution_count": 35,
   "id": "c931aa21",
   "metadata": {},
   "outputs": [],
   "source": [
    "normalization_layer = tf.keras.layers.experimental.preprocessing.Rescaling(1./255)"
   ]
  },
  {
   "cell_type": "markdown",
   "id": "1fa9793a",
   "metadata": {},
   "source": [
    "You can apply it to the dataset by calling map:"
   ]
  },
  {
   "cell_type": "code",
   "execution_count": 58,
   "id": "22f430b4",
   "metadata": {},
   "outputs": [],
   "source": [
    "normalized_ds = numbers_ds.map(lambda x, y: (normalization_layer(x), y))"
   ]
  },
  {
   "cell_type": "code",
   "execution_count": 59,
   "id": "bfea1bde",
   "metadata": {},
   "outputs": [
    {
     "name": "stdout",
     "output_type": "stream",
     "text": [
      "(8, 32, 32, 3)\n",
      "min and max value for image 0: 0.0 1.0\n"
     ]
    }
   ],
   "source": [
    "image_batch, labels_batch = next(iter(normalized_ds))\n",
    "#print(type(image_batch), type(labels_batch))\n",
    "print(image_batch.shape)\n",
    "first_image = image_batch[0]\n",
    "# Notice the pixels values are now in `[0,1]`.\n",
    "print(\"min and max value for image 0:\", np.min(first_image), np.max(first_image))"
   ]
  },
  {
   "cell_type": "markdown",
   "id": "695c9ca2",
   "metadata": {},
   "source": [
    "Now all the images have been loaded and standardized. We are ready to make some kind of data augmentation.\n",
    "Please refer to the following tutorial https://machinelearningmastery.com/how-to-configure-image-data-augmentation-when-training-deep-learning-neural-networks/"
   ]
  },
  {
   "cell_type": "code",
   "execution_count": null,
   "id": "48dfe091",
   "metadata": {},
   "outputs": [],
   "source": []
  }
 ],
 "metadata": {
  "kernelspec": {
   "display_name": "Python 3",
   "language": "python",
   "name": "python3"
  },
  "language_info": {
   "codemirror_mode": {
    "name": "ipython",
    "version": 3
   },
   "file_extension": ".py",
   "mimetype": "text/x-python",
   "name": "python",
   "nbconvert_exporter": "python",
   "pygments_lexer": "ipython3",
   "version": "3.8.10"
  }
 },
 "nbformat": 4,
 "nbformat_minor": 5
}
