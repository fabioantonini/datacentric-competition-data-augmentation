{
 "cells": [
  {
   "cell_type": "markdown",
   "id": "eea099f3",
   "metadata": {},
   "source": [
    "# Data augmentation on the mnist roman dataset for Data-Centric competition"
   ]
  },
  {
   "cell_type": "markdown",
   "id": "3c3d326c",
   "metadata": {},
   "source": [
    "## Refer to https://worksheets.codalab.org/worksheets/0x7a8721f11e61436e93ac8f76da83f0e6"
   ]
  },
  {
   "cell_type": "code",
   "execution_count": 1,
   "id": "4c96eca7",
   "metadata": {},
   "outputs": [],
   "source": [
    "import tensorflow as tf\n",
    "from tensorflow import keras\n",
    "import numpy as np\n",
    "import json\n",
    "import sys\n",
    "\n",
    "import PIL\n",
    "import PIL.Image\n",
    "import pathlib\n",
    "import matplotlib.pyplot as plt"
   ]
  },
  {
   "cell_type": "code",
   "execution_count": 2,
   "id": "ed1c73cc",
   "metadata": {},
   "outputs": [
    {
     "name": "stdout",
     "output_type": "stream",
     "text": [
      "2.5.0\n"
     ]
    }
   ],
   "source": [
    "print(tf.__version__)"
   ]
  },
  {
   "cell_type": "code",
   "execution_count": 3,
   "id": "aa5d662c",
   "metadata": {},
   "outputs": [],
   "source": [
    "data_dir = 'label_book'"
   ]
  },
  {
   "cell_type": "code",
   "execution_count": 4,
   "id": "5c2a26cd",
   "metadata": {},
   "outputs": [
    {
     "name": "stdout",
     "output_type": "stream",
     "text": [
      "The foleder label_book contains 52 pictures of roman numbers\n"
     ]
    }
   ],
   "source": [
    "data_dir = pathlib.Path(data_dir)\n",
    "image_count = len(list(data_dir.glob('*/*.png')))\n",
    "print(f'The foleder {data_dir} contains {image_count} pictures of roman numbers')"
   ]
  },
  {
   "cell_type": "markdown",
   "id": "86a0bfbc",
   "metadata": {},
   "source": [
    "Let's visualize one roman number as example."
   ]
  },
  {
   "cell_type": "code",
   "execution_count": 5,
   "id": "014f5f23",
   "metadata": {},
   "outputs": [
    {
     "data": {
      "image/png": "[encoded data removed]",
      "text/plain": [
       "<PIL.PngImagePlugin.PngImageFile image mode=L size=247x313 at 0x1BF47149EE0>"
      ]
     },
     "execution_count": 5,
     "metadata": {},
     "output_type": "execute_result"
    }
   ],
   "source": [
    "roman_i = list(data_dir.glob('i/*'))\n",
    "PIL.Image.open(str(roman_i[0]))"
   ]
  },
  {
   "cell_type": "markdown",
   "id": "b57a1cd1",
   "metadata": {},
   "source": [
    "Let's ingest the roman numbers by image_dataset_from_directory. The labels will be inferred by the 'class_names' parameter."
   ]
  },
  {
   "cell_type": "code",
   "execution_count": 6,
   "id": "58510eb8",
   "metadata": {},
   "outputs": [],
   "source": [
    "roman_numbers = \"label_book\"\n",
    "\n",
    "batch_size = 8\n",
    "tf.random.set_seed(123)"
   ]
  },
  {
   "cell_type": "code",
   "execution_count": 7,
   "id": "d123588b",
   "metadata": {},
   "outputs": [
    {
     "name": "stdout",
     "output_type": "stream",
     "text": [
      "Found 52 files belonging to 10 classes.\n"
     ]
    }
   ],
   "source": [
    "numbers_ds = tf.keras.preprocessing.image_dataset_from_directory(\n",
    "    roman_numbers,\n",
    "    labels=\"inferred\",\n",
    "    label_mode=\"categorical\",\n",
    "    class_names=[\"i\", \"ii\", \"iii\", \"iv\", \"v\", \"vi\", \"vii\", \"viii\", \"ix\", \"x\"],\n",
    "    shuffle=True,\n",
    "    seed=123,\n",
    "    batch_size=batch_size,\n",
    "    image_size=(32, 32),\n",
    ")"
   ]
  },
  {
   "cell_type": "code",
   "execution_count": 8,
   "id": "2bed0e1a",
   "metadata": {},
   "outputs": [
    {
     "name": "stdout",
     "output_type": "stream",
     "text": [
      "The class names are ['i', 'ii', 'iii', 'iv', 'v', 'vi', 'vii', 'viii', 'ix', 'x']\n"
     ]
    }
   ],
   "source": [
    "class_names = numbers_ds.class_names\n",
    "print(f\"The class names are {class_names}\")"
   ]
  },
  {
   "cell_type": "code",
   "execution_count": 9,
   "id": "8ca35afd",
   "metadata": {},
   "outputs": [
    {
     "name": "stdout",
     "output_type": "stream",
     "text": [
      "Batch shape (8, 32, 32, 3)\n",
      "Labels shape (8, 10)\n",
      "Number of batches: 7\n"
     ]
    }
   ],
   "source": [
    "for image_batch, labels_batch in numbers_ds:\n",
    "    print(\"Batch shape\", image_batch.shape)\n",
    "    print(\"Labels shape\", labels_batch.shape)\n",
    "    break\n",
    "\n",
    "numbers_of_batches = numbers_ds.cardinality().numpy()\n",
    "print(\"Number of batches:\", numbers_of_batches)\n"
   ]
  },
  {
   "cell_type": "markdown",
   "id": "fd713690",
   "metadata": {},
   "source": [
    "## Visualize the data"
   ]
  },
  {
   "cell_type": "markdown",
   "id": "19387ca0",
   "metadata": {},
   "source": [
    "Here are the first 8 images from the dataset."
   ]
  },
  {
   "cell_type": "code",
   "execution_count": 10,
   "id": "b93ebc5a",
   "metadata": {},
   "outputs": [
    {
     "data": {
      "image/png": "[encoded data removed]",
      "text/plain": [
       "<Figure size 720x720 with 8 Axes>"
      ]
     },
     "metadata": {
      "needs_background": "light"
     },
     "output_type": "display_data"
    }
   ],
   "source": [
    "plt.figure(figsize=(10, 10))\n",
    "for images, labels in numbers_ds.take(1):\n",
    "    for i in range(images.shape[0]):\n",
    "        ax = plt.subplot(2, 4, i + 1)\n",
    "        plt.imshow(images[i].numpy().astype(\"uint8\"))\n",
    "        plt.title(class_names[list(labels[i]).index(1)])\n",
    "        plt.axis(\"off\")"
   ]
  },
  {
   "cell_type": "markdown",
   "id": "b34fd569",
   "metadata": {},
   "source": [
    "## Data augmentation"
   ]
  },
  {
   "cell_type": "markdown",
   "id": "71a52b45",
   "metadata": {},
   "source": [
    "Now all the images have been loaded. We are ready to make some kind of data augmentation.\n",
    "Please refer to the following tutorial https://www.tensorflow.org/tutorials/images/data_augmentation."
   ]
  },
  {
   "cell_type": "markdown",
   "id": "f1080f59",
   "metadata": {},
   "source": [
    "### Horizontal flip"
   ]
  },
  {
   "cell_type": "markdown",
   "id": "5a3baf40",
   "metadata": {},
   "source": [
    "I    -->  I\\\n",
    "II   -->  II\\\n",
    "III  --> III\\\n",
    "IV   --> VI\\\n",
    "V    --> V\\\n",
    "VI   --> IV\\\n",
    "VII  --> IIV (not valid)\\\n",
    "VIII --> IIIV (not valid)\\\n",
    "IX   --> XI (not valid)\\\n",
    "X    --> X"
   ]
  },
  {
   "cell_type": "code",
   "execution_count": 12,
   "id": "94684331",
   "metadata": {},
   "outputs": [],
   "source": [
    "from tensorflow.keras import layers\n",
    "\n",
    "data_augmentation = tf.keras.Sequential([\n",
    "  layers.experimental.preprocessing.RandomFlip(\"horizontal\"),\n",
    "])"
   ]
  },
  {
   "cell_type": "code",
   "execution_count": 18,
   "id": "84b69f8f",
   "metadata": {},
   "outputs": [],
   "source": [
    "AUTOTUNE = tf.data.AUTOTUNE\n",
    "# if class_names[list(labels[i])] == 'x'\n",
    "numbers_ds = numbers_ds.map(lambda x, y: (data_augmentation(x, training=True), y), num_parallel_calls=AUTOTUNE)"
   ]
  },
  {
   "cell_type": "code",
   "execution_count": 14,
   "id": "8c325998",
   "metadata": {},
   "outputs": [
    {
     "data": {
      "image/png": "[encoded data removed]",
      "text/plain": [
       "<Figure size 720x720 with 8 Axes>"
      ]
     },
     "metadata": {
      "needs_background": "light"
     },
     "output_type": "display_data"
    }
   ],
   "source": [
    "plt.figure(figsize=(10, 10))\n",
    "for images, labels in numbers_ds.take(1):\n",
    "    #print(images.shape)\n",
    "    for i in range(images.shape[0]):\n",
    "        ax = plt.subplot(2, 4, i + 1)\n",
    "        plt.imshow(images[i].numpy().astype(\"uint8\"))\n",
    "        plt.title(class_names[list(labels[i]).index(1)])\n",
    "        plt.axis(\"off\")"
   ]
  },
  {
   "cell_type": "code",
   "execution_count": null,
   "id": "1abef159",
   "metadata": {},
   "outputs": [],
   "source": []
  }
 ],
 "metadata": {
  "kernelspec": {
   "display_name": "Python 3",
   "language": "python",
   "name": "python3"
  },
  "language_info": {
   "codemirror_mode": {
    "name": "ipython",
    "version": 3
   },
   "file_extension": ".py",
   "mimetype": "text/x-python",
   "name": "python",
   "nbconvert_exporter": "python",
   "pygments_lexer": "ipython3",
   "version": "3.8.10"
  }
 },
 "nbformat": 4,
 "nbformat_minor": 5
}
