{
 "cells": [
  {
   "cell_type": "markdown",
   "id": "98cc89d7",
   "metadata": {},
   "source": [
    "# Data augmentation on the mnist roman dataset for Data-Centric competition"
   ]
  },
  {
   "cell_type": "markdown",
   "id": "2b2031f9",
   "metadata": {},
   "source": [
    "## Refer to https://worksheets.codalab.org/worksheets/0x7a8721f11e61436e93ac8f76da83f0e6"
   ]
  },
  {
   "cell_type": "code",
   "execution_count": 1,
   "id": "7bed1f77",
   "metadata": {},
   "outputs": [],
   "source": [
    "import tensorflow as tf\n",
    "from tensorflow import keras\n",
    "import numpy as np\n",
    "import json\n",
    "import sys\n",
    "\n",
    "import PIL\n",
    "import PIL.Image\n",
    "import pathlib\n",
    "import matplotlib.pyplot as plt"
   ]
  },
  {
   "cell_type": "code",
   "execution_count": 2,
   "id": "c036ced4",
   "metadata": {},
   "outputs": [
    {
     "name": "stdout",
     "output_type": "stream",
     "text": [
      "2.5.0\n"
     ]
    }
   ],
   "source": [
    "print(tf.__version__)"
   ]
  },
  {
   "cell_type": "code",
   "execution_count": 3,
   "id": "9abd9ffb",
   "metadata": {},
   "outputs": [],
   "source": [
    "data_dir = 'label_book'"
   ]
  },
  {
   "cell_type": "code",
   "execution_count": 4,
   "id": "7491db05",
   "metadata": {},
   "outputs": [
    {
     "name": "stdout",
     "output_type": "stream",
     "text": [
      "The foleder label_book contains 52 pictures of roman numbers\n"
     ]
    }
   ],
   "source": [
    "data_dir = pathlib.Path(data_dir)\n",
    "image_count = len(list(data_dir.glob('*/*.png')))\n",
    "print(f'The foleder {data_dir} contains {image_count} pictures of roman numbers')"
   ]
  },
  {
   "cell_type": "markdown",
   "id": "6d2c291f",
   "metadata": {},
   "source": [
    "Let's visualize one roman number as example."
   ]
  },
  {
   "cell_type": "code",
   "execution_count": 5,
   "id": "fb6b6cf6",
   "metadata": {},
   "outputs": [
    {
     "data": {
      "image/png": "[encoded data removed]",
      "text/plain": [
       "<PIL.PngImagePlugin.PngImageFile image mode=L size=247x313 at 0x20C53E977F0>"
      ]
     },
     "execution_count": 5,
     "metadata": {},
     "output_type": "execute_result"
    }
   ],
   "source": [
    "roman_i = list(data_dir.glob('i/*'))\n",
    "PIL.Image.open(str(roman_i[0]))"
   ]
  },
  {
   "cell_type": "markdown",
   "id": "25b23159",
   "metadata": {},
   "source": [
    "Let's ingest the roman numbers by image_dataset_from_directory. The labels will be inferred by the 'class_names' parameter."
   ]
  },
  {
   "cell_type": "code",
   "execution_count": 6,
   "id": "c4fa8222",
   "metadata": {},
   "outputs": [],
   "source": [
    "roman_numbers = \"label_book\"\n",
    "\n",
    "batch_size = 8\n",
    "tf.random.set_seed(123)"
   ]
  },
  {
   "cell_type": "code",
   "execution_count": 7,
   "id": "8eea51dc",
   "metadata": {},
   "outputs": [
    {
     "name": "stdout",
     "output_type": "stream",
     "text": [
      "Found 52 files belonging to 10 classes.\n"
     ]
    }
   ],
   "source": [
    "numbers_ds = tf.keras.preprocessing.image_dataset_from_directory(\n",
    "    roman_numbers,\n",
    "    labels=\"inferred\",\n",
    "    label_mode=\"categorical\",\n",
    "    class_names=[\"i\", \"ii\", \"iii\", \"iv\", \"v\", \"vi\", \"vii\", \"viii\", \"ix\", \"x\"],\n",
    "    shuffle=True,\n",
    "    seed=123,\n",
    "    batch_size=batch_size,\n",
    "    image_size=(32, 32),\n",
    ")"
   ]
  },
  {
   "cell_type": "code",
   "execution_count": 8,
   "id": "fe1f5c05",
   "metadata": {},
   "outputs": [
    {
     "name": "stdout",
     "output_type": "stream",
     "text": [
      "The class names are ['i', 'ii', 'iii', 'iv', 'v', 'vi', 'vii', 'viii', 'ix', 'x']\n"
     ]
    }
   ],
   "source": [
    "class_names = numbers_ds.class_names\n",
    "print(f\"The class names are {class_names}\")"
   ]
  },
  {
   "cell_type": "code",
   "execution_count": 9,
   "id": "1b3a9408",
   "metadata": {},
   "outputs": [
    {
     "name": "stdout",
     "output_type": "stream",
     "text": [
      "Batch shape (8, 32, 32, 3)\n",
      "Labels shape (8, 10)\n",
      "Number of batches: 7\n"
     ]
    }
   ],
   "source": [
    "for image_batch, labels_batch in numbers_ds:\n",
    "    print(\"Batch shape\", image_batch.shape)\n",
    "    print(\"Labels shape\", labels_batch.shape)\n",
    "    break\n",
    "\n",
    "numbers_of_batches = numbers_ds.cardinality().numpy()\n",
    "print(\"Number of batches:\", numbers_of_batches)\n"
   ]
  },
  {
   "cell_type": "markdown",
   "id": "8e15f89d",
   "metadata": {},
   "source": [
    "## Visualize the data"
   ]
  },
  {
   "cell_type": "markdown",
   "id": "3fa46dc5",
   "metadata": {},
   "source": [
    "Here are the first 8 images from the dataset."
   ]
  },
  {
   "cell_type": "code",
   "execution_count": 10,
   "id": "f393f4f0",
   "metadata": {},
   "outputs": [
    {
     "data": {
      "image/png": "[encoded data removed]",
      "text/plain": [
       "<Figure size 720x720 with 8 Axes>"
      ]
     },
     "metadata": {
      "needs_background": "light"
     },
     "output_type": "display_data"
    }
   ],
   "source": [
    "plt.figure(figsize=(10, 10))\n",
    "for images, labels in numbers_ds.take(1):\n",
    "    for i in range(images.shape[0]):\n",
    "        ax = plt.subplot(2, 4, i + 1)\n",
    "        plt.imshow(images[i].numpy().astype(\"uint8\"))\n",
    "        plt.title(class_names[list(labels[i]).index(1)])\n",
    "        plt.axis(\"off\")"
   ]
  },
  {
   "cell_type": "markdown",
   "id": "69472a6a",
   "metadata": {},
   "source": [
    "## Data augmentation"
   ]
  },
  {
   "cell_type": "markdown",
   "id": "bfceb5b3",
   "metadata": {},
   "source": [
    "Now all the images have been loaded. We are ready to make some kind of data augmentation.\\\n",
    "Please refer to the following tutorial https://www.tensorflow.org/tutorials/images/data_augmentation."
   ]
  },
  {
   "cell_type": "markdown",
   "id": "834fad72",
   "metadata": {},
   "source": [
    "### Horizontal flip"
   ]
  },
  {
   "cell_type": "markdown",
   "id": "927496f1",
   "metadata": {},
   "source": [
    "I    -->  I\\\n",
    "II   -->  II\\\n",
    "III  --> III\\\n",
    "IV   --> VI\\\n",
    "V    --> V\\\n",
    "VI   --> IV\\\n",
    "VII  --> IIV (not valid)\\\n",
    "VIII --> IIIV (not valid)\\\n",
    "IX   --> XI (not valid)\\\n",
    "X    --> X"
   ]
  },
  {
   "cell_type": "code",
   "execution_count": 11,
   "id": "02b18711",
   "metadata": {},
   "outputs": [],
   "source": [
    "from tensorflow.keras import layers\n",
    "\n",
    "AUTOTUNE = tf.data.AUTOTUNE"
   ]
  },
  {
   "cell_type": "code",
   "execution_count": 12,
   "id": "1b5022ae",
   "metadata": {},
   "outputs": [],
   "source": [
    "data_horizontal_augmentation = tf.keras.Sequential([\n",
    "  layers.experimental.preprocessing.RandomFlip(\"horizontal\"),\n",
    "])"
   ]
  },
  {
   "cell_type": "code",
   "execution_count": 15,
   "id": "f883914a",
   "metadata": {},
   "outputs": [],
   "source": [
    "# if class_names[list(labels[i])] == 'x'\n",
    "horizontal_exceptions = ['vii', 'viii', 'ix']\n",
    "numbers_horizontal_ds = numbers_ds.map(lambda x, y: (data_horizontal_augmentation(x, training=True), y), num_parallel_calls=AUTOTUNE)"
   ]
  },
  {
   "cell_type": "code",
   "execution_count": 16,
   "id": "f8157c0b",
   "metadata": {},
   "outputs": [
    {
     "data": {
      "image/png": "[encoded data removed]",
      "text/plain": [
       "<Figure size 720x720 with 8 Axes>"
      ]
     },
     "metadata": {
      "needs_background": "light"
     },
     "output_type": "display_data"
    }
   ],
   "source": [
    "plt.figure(figsize=(10, 10))\n",
    "for images, labels in numbers_horizontal_ds.take(1):\n",
    "    #print(images.shape)\n",
    "    for i in range(images.shape[0]):\n",
    "        ax = plt.subplot(2, 4, i + 1)\n",
    "        plt.imshow(images[i].numpy().astype(\"uint8\"))\n",
    "        plt.title(class_names[list(labels[i]).index(1)])\n",
    "        plt.axis(\"off\")"
   ]
  },
  {
   "cell_type": "markdown",
   "id": "e9746d1e",
   "metadata": {},
   "source": [
    "### Vertical flip"
   ]
  },
  {
   "cell_type": "markdown",
   "id": "7ada5180",
   "metadata": {},
   "source": [
    "I    -->  I\\\n",
    "II   -->  II\\\n",
    "III  --> III\\\n",
    "IV   --> not valid\\\n",
    "V    --> not valid\\\n",
    "VI   --> not valid\\\n",
    "VII  --> not valid\\\n",
    "VIII --> not valid\\\n",
    "IX   --> IX\\\n",
    "X    --> X"
   ]
  },
  {
   "cell_type": "code",
   "execution_count": 18,
   "id": "f4023ee2",
   "metadata": {},
   "outputs": [],
   "source": [
    "data_vertical_augmentation = tf.keras.Sequential([\n",
    "  layers.experimental.preprocessing.RandomFlip(\"vertical\"),\n",
    "])"
   ]
  },
  {
   "cell_type": "code",
   "execution_count": 19,
   "id": "14eecc21",
   "metadata": {},
   "outputs": [],
   "source": [
    "verticall_exceptions = ['vii', 'viii', 'ix']\n",
    "numbers_vertical_ds = numbers_ds.map(lambda x, y: (data_vertical_augmentation(x, training=True), y), num_parallel_calls=AUTOTUNE)"
   ]
  },
  {
   "cell_type": "code",
   "execution_count": 20,
   "id": "5c5f2097",
   "metadata": {},
   "outputs": [
    {
     "data": {
      "image/png": "[encoded data removed]",
      "text/plain": [
       "<Figure size 720x720 with 8 Axes>"
      ]
     },
     "metadata": {
      "needs_background": "light"
     },
     "output_type": "display_data"
    }
   ],
   "source": [
    "plt.figure(figsize=(10, 10))\n",
    "for images, labels in numbers_vertical_ds.take(1):\n",
    "    #print(images.shape)\n",
    "    for i in range(images.shape[0]):\n",
    "        ax = plt.subplot(2, 4, i + 1)\n",
    "        plt.imshow(images[i].numpy().astype(\"uint8\"))\n",
    "        plt.title(class_names[list(labels[i]).index(1)])\n",
    "        plt.axis(\"off\")"
   ]
  },
  {
   "cell_type": "markdown",
   "id": "962bbb5e",
   "metadata": {},
   "source": [
    "Not let's save only the images that corresponds to a meangiful roman numbers."
   ]
  },
  {
   "cell_type": "code",
   "execution_count": null,
   "id": "7818e449",
   "metadata": {},
   "outputs": [],
   "source": []
  }
 ],
 "metadata": {
  "kernelspec": {
   "display_name": "Python 3",
   "language": "python",
   "name": "python3"
  },
  "language_info": {
   "codemirror_mode": {
    "name": "ipython",
    "version": 3
   },
   "file_extension": ".py",
   "mimetype": "text/x-python",
   "name": "python",
   "nbconvert_exporter": "python",
   "pygments_lexer": "ipython3",
   "version": "3.8.10"
  }
 },
 "nbformat": 4,
 "nbformat_minor": 5
}
