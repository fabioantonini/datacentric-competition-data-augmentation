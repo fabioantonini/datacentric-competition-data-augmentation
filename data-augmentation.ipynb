{
 "cells": [
  {
   "cell_type": "markdown",
   "id": "db6e04f6",
   "metadata": {},
   "source": [
    "# Data augmentation on the mnist roman dataset for Data-Centric competition"
   ]
  },
  {
   "cell_type": "markdown",
   "id": "d4ebb1f7",
   "metadata": {},
   "source": [
    "#### Refer to https://worksheets.codalab.org/worksheets/0x7a8721f11e61436e93ac8f76da83f0e6"
   ]
  },
  {
   "cell_type": "code",
   "execution_count": null,
   "id": "fd36721a",
   "metadata": {},
   "outputs": [],
   "source": [
    "import tensorflow as tf\n",
    "from tensorflow import keras\n",
    "from tensorflow.keras import layers\n",
    "import numpy as np\n",
    "import json\n",
    "import sys\n",
    "\n",
    "import PIL\n",
    "import PIL.Image\n",
    "import pathlib\n",
    "import matplotlib.pyplot as plt\n",
    "import os\n",
    "\n",
    "# tools for image storing\n",
    "import shutil\n",
    "import uuid\n",
    "\n",
    "# to measure time intervals\n",
    "import time"
   ]
  },
  {
   "cell_type": "code",
   "execution_count": 2,
   "id": "087243fd",
   "metadata": {},
   "outputs": [
    {
     "name": "stdout",
     "output_type": "stream",
     "text": [
      "2.5.0\n"
     ]
    }
   ],
   "source": [
    "print(tf.__version__)"
   ]
  },
  {
   "cell_type": "code",
   "execution_count": 3,
   "id": "346c8230",
   "metadata": {},
   "outputs": [],
   "source": [
    "def plot_dataset_samples(dataset, figsize=10):\n",
    "    plt.figure(figsize=(figsize, figsize))\n",
    "    for images, labels in dataset.take(1):\n",
    "        for i in range(images.shape[0]):\n",
    "            ax = plt.subplot(2, 4, i + 1)\n",
    "            plt.imshow(images[i].numpy().astype(\"uint8\"))\n",
    "            plt.title(class_names[list(labels[i]).index(1)])\n",
    "            plt.axis(\"off\")"
   ]
  },
  {
   "cell_type": "code",
   "execution_count": 4,
   "id": "55682b0e",
   "metadata": {},
   "outputs": [],
   "source": [
    "def randomflip_dataset(dataset, data_flip_type='horizontal', exceptions=[]):\n",
    "    data_augmentation = tf.keras.Sequential([layers.experimental.preprocessing.RandomFlip(data_flip_type),])\n",
    "    numbers_of_batches = numbers_ds.cardinality().numpy()   \n",
    "    for images, labels in dataset.take(numbers_of_batches):\n",
    "        for i in range(images.shape[0]):\n",
    "            if class_names[list(labels[i]).index(1)] not in exceptions:\n",
    "                x = images[i]\n",
    "                y = labels[i]\n",
    "                #dataset.map((data_augmentation(x, training=True), y), num_parallel_calls=tf.data.AUTOTUNE)\n",
    "    \n",
    "    \n",
    "    return dataset"
   ]
  },
  {
   "cell_type": "code",
   "execution_count": 5,
   "id": "f4b7ca35",
   "metadata": {},
   "outputs": [],
   "source": [
    "def do_augmentation_randomflip(dataset, data_flip_type='horizontal'):\n",
    "    data_augmentation = tf.keras.Sequential([layers.experimental.preprocessing.RandomFlip(data_flip_type),])\n",
    "    return dataset.map(lambda x, y: (data_augmentation(x, training=True), y), num_parallel_calls=tf.data.AUTOTUNE)"
   ]
  },
  {
   "cell_type": "code",
   "execution_count": 6,
   "id": "53fff452",
   "metadata": {},
   "outputs": [],
   "source": [
    "def do_augmentation_random_rotation(dataset, data_rotation_factor=0.2, exceptions=[]):\n",
    "    data_augmentation = tf.keras.Sequential([layers.experimental.preprocessing.RandomRotation(data_rotation_factor),])\n",
    "    return dataset.map(lambda x, y: (data_augmentation(x, training=True), y), num_parallel_calls=tf.data.AUTOTUNE)"
   ]
  },
  {
   "cell_type": "code",
   "execution_count": 7,
   "id": "6712928b",
   "metadata": {},
   "outputs": [],
   "source": [
    "def do_augmentation_random_height(dataset, data_height_factor=0.2):\n",
    "    data_augmentation = tf.keras.Sequential([layers.experimental.preprocessing.RandomHeight(data_height_factor),])\n",
    "    return dataset.map(lambda x, y: (data_augmentation(x, training=True), y), num_parallel_calls=tf.data.AUTOTUNE)"
   ]
  },
  {
   "cell_type": "code",
   "execution_count": 8,
   "id": "c3679577",
   "metadata": {},
   "outputs": [],
   "source": [
    "def do_augmentation_random_traslation(dataset, data_traslation_factor=0.2):\n",
    "    data_augmentation = tf.keras.Sequential([layers.experimental.preprocessing.RandomHeight(data_traslation_factor),])\n",
    "    return dataset.map(lambda x, y: (data_augmentation(x, training=True), y), num_parallel_calls=tf.data.AUTOTUNE)"
   ]
  },
  {
   "cell_type": "code",
   "execution_count": 9,
   "id": "c6c4d532",
   "metadata": {},
   "outputs": [],
   "source": [
    "def dataset_save(dataset, directory, exceptions=[]):\n",
    "    images_stored = []\n",
    "    for images, labels in dataset:\n",
    "        for i in range(images.shape[0]):\n",
    "            cl = class_names[list(labels[i]).index(1)]\n",
    "            if cl not in exceptions:\n",
    "                filepath = os.path.join(directory , cl) + '/' + str(uuid.uuid4()) + '.png'\n",
    "                tf.keras.preprocessing.image.save_img(filepath , images[i].numpy().astype(\"uint8\"))\n",
    "                images_stored.append(images[i])\n",
    "    #return images_stored"
   ]
  },
  {
   "cell_type": "code",
   "execution_count": 10,
   "id": "e723d2b0",
   "metadata": {},
   "outputs": [],
   "source": [
    "data_dir = 'label_book'\n",
    "augmentation_dir = 'augmentation/'"
   ]
  },
  {
   "cell_type": "code",
   "execution_count": 11,
   "id": "336c7277",
   "metadata": {},
   "outputs": [
    {
     "name": "stdout",
     "output_type": "stream",
     "text": [
      "The folder label_book contains 865 pictures of roman numbers\n"
     ]
    }
   ],
   "source": [
    "data_dir = pathlib.Path(data_dir)\n",
    "image_count = len(list(data_dir.glob('*/*.png')))\n",
    "print(f'The folder {data_dir} contains {image_count} pictures of roman numbers')"
   ]
  },
  {
   "cell_type": "code",
   "execution_count": 12,
   "id": "0c948add",
   "metadata": {},
   "outputs": [],
   "source": [
    "roman_numbers = \"label_book\"\n",
    "class_names=[\"i\", \"ii\", \"iii\", \"iv\", \"v\", \"vi\", \"vii\", \"viii\", \"ix\", \"x\"]\n",
    "batch_size = 8\n",
    "tf.random.set_seed(123)"
   ]
  },
  {
   "cell_type": "code",
   "execution_count": 15,
   "id": "8c43924d",
   "metadata": {},
   "outputs": [],
   "source": [
    "if os.path.exists(augmentation_dir):\n",
    "    shutil.rmtree(augmentation_dir)\n",
    "\n",
    "if not os.path.exists(augmentation_dir):\n",
    "    os.makedirs(augmentation_dir)\n",
    "\n",
    "for cl in class_names:\n",
    "    if not os.path.exists(os.path.join(augmentation_dir, cl)):\n",
    "        os.makedirs(os.path.join(augmentation_dir, cl))"
   ]
  },
  {
   "cell_type": "markdown",
   "id": "0c2370dd",
   "metadata": {},
   "source": [
    "Let's visualize one roman number as example."
   ]
  },
  {
   "cell_type": "code",
   "execution_count": 16,
   "id": "82b897e3",
   "metadata": {},
   "outputs": [
    {
     "data": {
      "image/png": "[encoded data removed]",
      "text/plain": [
       "<PIL.PngImagePlugin.PngImageFile image mode=L size=247x313 at 0x125E9DAD280>"
      ]
     },
     "execution_count": 16,
     "metadata": {},
     "output_type": "execute_result"
    }
   ],
   "source": [
    "roman_i = list(data_dir.glob('i/*'))\n",
    "PIL.Image.open(str(roman_i[0]))"
   ]
  },
  {
   "cell_type": "markdown",
   "id": "0eb03b86",
   "metadata": {},
   "source": [
    "Let's ingest the roman numbers by the API 'image_dataset_from_directory'. The labels will be inferred by the 'class_names' parameter."
   ]
  },
  {
   "cell_type": "code",
   "execution_count": 17,
   "id": "1703ff93",
   "metadata": {},
   "outputs": [
    {
     "name": "stdout",
     "output_type": "stream",
     "text": [
      "Found 865 files belonging to 10 classes.\n"
     ]
    }
   ],
   "source": [
    "numbers_ds = tf.keras.preprocessing.image_dataset_from_directory(\n",
    "    roman_numbers,\n",
    "    labels=\"inferred\",\n",
    "    label_mode=\"categorical\",\n",
    "    class_names=class_names,\n",
    "    shuffle=True,\n",
    "    seed=123,\n",
    "    batch_size=batch_size,\n",
    "    image_size=(247, 313),\n",
    ")"
   ]
  },
  {
   "cell_type": "code",
   "execution_count": 18,
   "id": "fa217596",
   "metadata": {},
   "outputs": [
    {
     "name": "stdout",
     "output_type": "stream",
     "text": [
      "The class names are ['i', 'ii', 'iii', 'iv', 'v', 'vi', 'vii', 'viii', 'ix', 'x']\n"
     ]
    }
   ],
   "source": [
    "print(f\"The class names are {numbers_ds.class_names}\")"
   ]
  },
  {
   "cell_type": "code",
   "execution_count": 19,
   "id": "2edc2d37",
   "metadata": {},
   "outputs": [
    {
     "name": "stdout",
     "output_type": "stream",
     "text": [
      "Batch shape (8, 247, 313, 3)\n",
      "Labels shape (8, 10)\n",
      "Number of batches: 109\n"
     ]
    }
   ],
   "source": [
    "for image_batch, labels_batch in numbers_ds:\n",
    "    print(\"Batch shape\", image_batch.shape)\n",
    "    print(\"Labels shape\", labels_batch.shape)\n",
    "    break\n",
    "\n",
    "numbers_of_batches = numbers_ds.cardinality().numpy()\n",
    "print(\"Number of batches:\", numbers_of_batches)\n"
   ]
  },
  {
   "cell_type": "markdown",
   "id": "444642f9",
   "metadata": {},
   "source": [
    "## Visualize the data"
   ]
  },
  {
   "cell_type": "markdown",
   "id": "1b49ca2d",
   "metadata": {},
   "source": [
    "Here are the first 8 images from the dataset."
   ]
  },
  {
   "cell_type": "code",
   "execution_count": 20,
   "id": "735ac41d",
   "metadata": {},
   "outputs": [
    {
     "data": {
      "image/png": "[encoded data removed]",
      "text/plain": [
       "<Figure size 720x720 with 8 Axes>"
      ]
     },
     "metadata": {
      "needs_background": "light"
     },
     "output_type": "display_data"
    }
   ],
   "source": [
    "plot_dataset_samples(numbers_ds)"
   ]
  },
  {
   "cell_type": "markdown",
   "id": "fa79774a",
   "metadata": {},
   "source": [
    "## Data augmentation"
   ]
  },
  {
   "cell_type": "markdown",
   "id": "adb005e7",
   "metadata": {},
   "source": [
    "Now all the images have been loaded. We are ready to make some kind of data augmentation.\\\n",
    "Please refer to the following tutorial https://www.tensorflow.org/tutorials/images/data_augmentation."
   ]
  },
  {
   "cell_type": "markdown",
   "id": "bac0a498",
   "metadata": {},
   "source": [
    "### Horizontal flip"
   ]
  },
  {
   "cell_type": "markdown",
   "id": "7ebd58fe",
   "metadata": {},
   "source": [
    "I    -->  I\\\n",
    "II   -->  II\\\n",
    "III  --> III\\\n",
    "IV   --> VI\\\n",
    "V    --> V\\\n",
    "VI   --> IV\\\n",
    "VII  --> IIV (not valid)\\\n",
    "VIII --> IIIV (not valid)\\\n",
    "IX   --> XI (not valid)\\\n",
    "X    --> X"
   ]
  },
  {
   "cell_type": "markdown",
   "id": "d31cbc25",
   "metadata": {},
   "source": [
    "So there are some exceptions that have to be taken into account when we will store the augmented data:"
   ]
  },
  {
   "cell_type": "code",
   "execution_count": null,
   "id": "b990811b",
   "metadata": {},
   "outputs": [],
   "source": [
    "horizontal_exceptions = ['vii', 'viii', 'ix']"
   ]
  },
  {
   "cell_type": "code",
   "execution_count": null,
   "id": "917ffee1",
   "metadata": {},
   "outputs": [],
   "source": [
    "numbers_horizontal_ds = do_augmentation_randomflip(numbers_ds, data_flip_type=\"horizontal\")"
   ]
  },
  {
   "cell_type": "code",
   "execution_count": null,
   "id": "14af6318",
   "metadata": {},
   "outputs": [],
   "source": [
    "print(type(numbers_horizontal_ds))"
   ]
  },
  {
   "cell_type": "code",
   "execution_count": null,
   "id": "d5bca27a",
   "metadata": {},
   "outputs": [],
   "source": [
    "plot_dataset_samples(numbers_horizontal_ds)"
   ]
  },
  {
   "cell_type": "code",
   "execution_count": null,
   "id": "16e7d10e",
   "metadata": {},
   "outputs": [],
   "source": [
    "dataset_save(numbers_horizontal_ds, augmentation_dir, horizontal_exceptions)"
   ]
  },
  {
   "cell_type": "code",
   "execution_count": null,
   "id": "b48e80bc",
   "metadata": {},
   "outputs": [],
   "source": [
    "print(type(numbers_horizontal_ds))"
   ]
  },
  {
   "cell_type": "code",
   "execution_count": null,
   "id": "cf4c3be2",
   "metadata": {},
   "outputs": [],
   "source": [
    "'''\n",
    "start = time.time()\n",
    "randomflip_dataset(numbers_ds)\n",
    "end = time.time()\n",
    "print(f\"elapsed {end - start}\")\n",
    "'''"
   ]
  },
  {
   "cell_type": "markdown",
   "id": "edd6168f",
   "metadata": {},
   "source": [
    "### Vertical flip"
   ]
  },
  {
   "cell_type": "markdown",
   "id": "85b7ea09",
   "metadata": {},
   "source": [
    "I    -->  I\\\n",
    "II   -->  II\\\n",
    "III  --> III\\\n",
    "IV   --> not valid\\\n",
    "V    --> not valid\\\n",
    "VI   --> not valid\\\n",
    "VII  --> not valid\\\n",
    "VIII --> not valid\\\n",
    "IX   --> IX\\\n",
    "X    --> X"
   ]
  },
  {
   "cell_type": "markdown",
   "id": "d55171c4",
   "metadata": {},
   "source": [
    "So there are some exceptions that have to be taken into account when we will store the augmented data:"
   ]
  },
  {
   "cell_type": "code",
   "execution_count": null,
   "id": "b32d25ad",
   "metadata": {},
   "outputs": [],
   "source": [
    "vertical_exceptions = ['iv', 'v', 'vi', 'vii', 'viii']"
   ]
  },
  {
   "cell_type": "code",
   "execution_count": null,
   "id": "8bd2784f",
   "metadata": {},
   "outputs": [],
   "source": [
    "numbers_vertical_ds = do_augmentation_randomflip(numbers_ds, data_flip_type=\"vertical\")"
   ]
  },
  {
   "cell_type": "code",
   "execution_count": null,
   "id": "7d3ad1d3",
   "metadata": {},
   "outputs": [],
   "source": [
    "plot_dataset_samples(numbers_vertical_ds)"
   ]
  },
  {
   "cell_type": "markdown",
   "id": "159503a4",
   "metadata": {},
   "source": [
    "Not let's save only the images that correspond to a real roman numbers."
   ]
  },
  {
   "cell_type": "code",
   "execution_count": null,
   "id": "db00cc5b",
   "metadata": {},
   "outputs": [],
   "source": [
    "dataset_save(numbers_vertical_ds, augmentation_dir, vertical_exceptions)"
   ]
  },
  {
   "cell_type": "code",
   "execution_count": null,
   "id": "37a074e0",
   "metadata": {},
   "outputs": [],
   "source": [
    "exceptions = [[], horizontal_exceptions, vertical_exceptions]"
   ]
  },
  {
   "cell_type": "markdown",
   "id": "91b366bf",
   "metadata": {},
   "source": [
    "### Data random rotation"
   ]
  },
  {
   "cell_type": "code",
   "execution_count": 21,
   "id": "9cc0f481",
   "metadata": {},
   "outputs": [],
   "source": [
    "rotations = [0.01, 0.05, 0.1]\n",
    "datasets = [numbers_ds]\n",
    "#datasets = [numbers_ds, numbers_horizontal_ds, numbers_vertical_ds]"
   ]
  },
  {
   "cell_type": "code",
   "execution_count": 22,
   "id": "8359b969",
   "metadata": {},
   "outputs": [
    {
     "data": {
      "image/png": "[encoded data removed]",
      "text/plain": [
       "<Figure size 720x720 with 8 Axes>"
      ]
     },
     "metadata": {
      "needs_background": "light"
     },
     "output_type": "display_data"
    }
   ],
   "source": [
    "for rot in rotations:\n",
    "    for idx, ds in enumerate(datasets):\n",
    "        augmented_ds = do_augmentation_random_rotation(ds, data_rotation_factor=rot)\n",
    "        dataset_save(augmented_ds, augmentation_dir)\n",
    "plot_dataset_samples(ds)"
   ]
  },
  {
   "cell_type": "markdown",
   "id": "a259d203",
   "metadata": {},
   "source": [
    "### Data random height"
   ]
  },
  {
   "cell_type": "code",
   "execution_count": 23,
   "id": "7897c75c",
   "metadata": {},
   "outputs": [],
   "source": [
    "heights = [0.1, 0.2, 0.3, 0.4, 0.5, 0.6]\n",
    "#datasets = [numbers_ds, numbers_horizontal_ds, numbers_vertical_ds]\n",
    "datasets = [numbers_ds]"
   ]
  },
  {
   "cell_type": "code",
   "execution_count": 24,
   "id": "4188f7c3",
   "metadata": {},
   "outputs": [
    {
     "data": {
      "image/png": "[encoded data removed]",
      "text/plain": [
       "<Figure size 720x720 with 8 Axes>"
      ]
     },
     "metadata": {
      "needs_background": "light"
     },
     "output_type": "display_data"
    }
   ],
   "source": [
    "for h in heights:\n",
    "    for idx, ds in enumerate(datasets):\n",
    "        augmented_ds = do_augmentation_random_height(ds, data_height_factor=h)\n",
    "        dataset_save(augmented_ds, augmentation_dir)\n",
    "plot_dataset_samples(ds)"
   ]
  },
  {
   "cell_type": "markdown",
   "id": "c45aba35",
   "metadata": {},
   "source": [
    "### Data random traslation"
   ]
  },
  {
   "cell_type": "code",
   "execution_count": 25,
   "id": "4f42bce5",
   "metadata": {},
   "outputs": [],
   "source": [
    "traslation = [0.1, 0.2, 0.3, 0.4, 0.5]\n",
    "#datasets = [numbers_ds, numbers_horizontal_ds, numbers_vertical_ds]\n",
    "datasets = [numbers_ds]"
   ]
  },
  {
   "cell_type": "code",
   "execution_count": 26,
   "id": "8cd47bcd",
   "metadata": {},
   "outputs": [
    {
     "data": {
      "image/png": "[encoded data removed]",
      "text/plain": [
       "<Figure size 720x720 with 8 Axes>"
      ]
     },
     "metadata": {
      "needs_background": "light"
     },
     "output_type": "display_data"
    }
   ],
   "source": [
    "for h in traslation:\n",
    "    for idx, ds in enumerate(datasets):\n",
    "        augmented_ds = do_augmentation_random_traslation(ds, data_traslation_factor=h)\n",
    "        dataset_save(augmented_ds, augmentation_dir)\n",
    "plot_dataset_samples(ds)"
   ]
  },
  {
   "cell_type": "code",
   "execution_count": null,
   "id": "2af33153",
   "metadata": {},
   "outputs": [],
   "source": []
  },
  {
   "cell_type": "code",
   "execution_count": null,
   "id": "bf70b889",
   "metadata": {},
   "outputs": [],
   "source": []
  },
  {
   "cell_type": "code",
   "execution_count": null,
   "id": "1cbfb66b",
   "metadata": {},
   "outputs": [],
   "source": []
  }
 ],
 "metadata": {
  "kernelspec": {
   "display_name": "Python 3",
   "language": "python",
   "name": "python3"
  },
  "language_info": {
   "codemirror_mode": {
    "name": "ipython",
    "version": 3
   },
   "file_extension": ".py",
   "mimetype": "text/x-python",
   "name": "python",
   "nbconvert_exporter": "python",
   "pygments_lexer": "ipython3",
   "version": "3.8.10"
  }
 },
 "nbformat": 4,
 "nbformat_minor": 5
}
