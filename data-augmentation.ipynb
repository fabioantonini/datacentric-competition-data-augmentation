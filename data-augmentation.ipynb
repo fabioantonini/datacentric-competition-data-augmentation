{
 "cells": [
  {
   "cell_type": "markdown",
   "id": "77a46891",
   "metadata": {},
   "source": [
    "# Data augmentation on the mnist roman dataset for Data-Centric competition"
   ]
  },
  {
   "cell_type": "markdown",
   "id": "f0cff6eb",
   "metadata": {},
   "source": [
    "## Refer to https://worksheets.codalab.org/worksheets/0x7a8721f11e61436e93ac8f76da83f0e6"
   ]
  },
  {
   "cell_type": "code",
   "execution_count": 6,
   "id": "01a0f420",
   "metadata": {},
   "outputs": [],
   "source": [
    "import tensorflow as tf\n",
    "from tensorflow import keras\n",
    "import numpy as np\n",
    "import json\n",
    "import sys\n",
    "\n",
    "import PIL\n",
    "import PIL.Image\n",
    "import pathlib"
   ]
  },
  {
   "cell_type": "code",
   "execution_count": 2,
   "id": "2f699d4a",
   "metadata": {},
   "outputs": [
    {
     "name": "stdout",
     "output_type": "stream",
     "text": [
      "2.5.0\n"
     ]
    }
   ],
   "source": [
    "print(tf.__version__)"
   ]
  },
  {
   "cell_type": "code",
   "execution_count": 7,
   "id": "c06dba6a",
   "metadata": {},
   "outputs": [],
   "source": [
    "data_dir = 'label_book'"
   ]
  },
  {
   "cell_type": "code",
   "execution_count": 10,
   "id": "3c195e9f",
   "metadata": {},
   "outputs": [
    {
     "name": "stdout",
     "output_type": "stream",
     "text": [
      "The foleder label_book contains 52 pictures of roman numbers\n"
     ]
    }
   ],
   "source": [
    "data_dir = pathlib.Path(data_dir)\n",
    "image_count = len(list(data_dir.glob('*/*.png')))\n",
    "print(f'The foleder {data_dir} contains {image_count} pictures of roman numbers')"
   ]
  },
  {
   "cell_type": "markdown",
   "id": "461ab2d7",
   "metadata": {},
   "source": [
    "Let's visualize one roman number as example."
   ]
  },
  {
   "cell_type": "code",
   "execution_count": 12,
   "id": "f3be8375",
   "metadata": {},
   "outputs": [
    {
     "data": {
      "image/png": "[encoded data removed]",
      "text/plain": [
       "<PIL.PngImagePlugin.PngImageFile image mode=L size=247x313 at 0x1E1781291F0>"
      ]
     },
     "execution_count": 12,
     "metadata": {},
     "output_type": "execute_result"
    }
   ],
   "source": [
    "roman_i = list(data_dir.glob('i/*'))\n",
    "PIL.Image.open(str(roman_i[0]))"
   ]
  },
  {
   "cell_type": "code",
   "execution_count": null,
   "id": "4a55bd6f",
   "metadata": {},
   "outputs": [],
   "source": []
  }
 ],
 "metadata": {
  "kernelspec": {
   "display_name": "Python 3",
   "language": "python",
   "name": "python3"
  },
  "language_info": {
   "codemirror_mode": {
    "name": "ipython",
    "version": 3
   },
   "file_extension": ".py",
   "mimetype": "text/x-python",
   "name": "python",
   "nbconvert_exporter": "python",
   "pygments_lexer": "ipython3",
   "version": "3.8.10"
  }
 },
 "nbformat": 4,
 "nbformat_minor": 5
}
